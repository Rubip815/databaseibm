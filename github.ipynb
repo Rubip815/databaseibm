{
 "cells": [
  {
   "cell_type": "code",
   "execution_count": 1,
   "id": "be67cf43-6812-45a0-a669-46dca744ca7c",
   "metadata": {},
   "outputs": [],
   "source": [
    "# Data Science Tools and Ecosystem\n"
   ]
  },
  {
   "cell_type": "code",
   "execution_count": null,
   "id": "f9516980-8e92-44ce-83e3-629bc95b579a",
   "metadata": {},
   "outputs": [],
   "source": [
    "#In this notebook, we will explore various tools, languages, and libraries used in the field of data science. We will also perform basic arithmetic operations using Python code.\n"
   ]
  },
  {
   "cell_type": "code",
   "execution_count": null,
   "id": "2251f2f6-d8ee-4211-8e0b-4d40fc26c65f",
   "metadata": {},
   "outputs": [],
   "source": [
    "## Some of the popular languages that Data Scientists use are:\n",
    "1. Python  \n",
    "2. R  \n",
    "3. SQL  \n",
    "4. Julia  \n",
    "5. Scala\n"
   ]
  },
  {
   "cell_type": "code",
   "execution_count": null,
   "id": "1816aa93-d602-47af-b25a-f29af11daec5",
   "metadata": {},
   "outputs": [],
   "source": [
    "## Some of the commonly used libraries used by Data Scientists include:\n",
    "1. Pandas  \n",
    "2. NumPy  \n",
    "3. Matplotlib  \n",
    "4. Scikit-learn  \n",
    "5. TensorFlow  \n",
    "6. Keras\n"
   ]
  },
  {
   "cell_type": "code",
   "execution_count": null,
   "id": "57308a00-c635-4806-ac50-c63ac28c7309",
   "metadata": {},
   "outputs": [],
   "source": [
    "## Data Science Tools\n",
    "\n",
    "| Tool         | Description                   |\n",
    "|--------------|-------------------------------|\n",
    "| Jupyter      | Interactive notebook interface |\n",
    "| RStudio      | IDE for R                      |\n",
    "| Apache Spark | Big data processing engine     |\n"
   ]
  },
  {
   "cell_type": "code",
   "execution_count": null,
   "id": "524c819d-bf6a-4f47-b66f-c6444ee85859",
   "metadata": {},
   "outputs": [],
   "source": []
  }
 ],
 "metadata": {
  "kernelspec": {
   "display_name": "Python [conda env:base] *",
   "language": "python",
   "name": "conda-base-py"
  },
  "language_info": {
   "codemirror_mode": {
    "name": "ipython",
    "version": 3
   },
   "file_extension": ".py",
   "mimetype": "text/x-python",
   "name": "python",
   "nbconvert_exporter": "python",
   "pygments_lexer": "ipython3",
   "version": "3.12.7"
  }
 },
 "nbformat": 4,
 "nbformat_minor": 5
}
